{
 "cells": [
  {
   "cell_type": "code",
   "execution_count": 1,
   "metadata": {
    "collapsed": true
   },
   "outputs": [],
   "source": [
    "from __future__ import division\n",
    "import numpy as np\n",
    "import csv"
   ]
  },
  {
   "cell_type": "markdown",
   "metadata": {},
   "source": [
    "# Virial Coefficient Lab Fake Data Generator\n",
    "The virial coefficient lab has such a leaky apparatus that the data are unusable for analysis. Perhaps in future years we can seal the leaks and use real data, but for now the students need something to analyze. Enter the Virial Coefficient Lab Fake Data Generator!\n",
    "\n",
    "We start at a pressure of 1 atmosphere at the system volume (a value randomized below each time you run this notebook). The virial equation is used to find the number of moles of gas in the system (given a value of B):\n",
    "\n",
    "$$\\frac{pV}{nRT} = 1 + Bp \\hspace{5em} n = \\frac{pV}{RT(1+Bp)}$$\n",
    "\n",
    "Then a syringe is used to increase the system volume by 30.0ml ($\\Delta V$). The new pressure is found using the virial equation again (with the same n and a new V):\n",
    "\n",
    "$$\\frac{pV}{nRT} = 1 + Bp \\hspace{5em} p = \\left(\\frac{v}{nRT}-B\\right)^{-1}$$\n",
    "\n",
    "Finally, the gas in the syringe is expelled, returning the system to its original volume, at the new pressure and now fewer moles:\n",
    "\n",
    "$$n_{new} = n_{old}\\frac{V}{V+\\Delta V}$$\n",
    "\n",
    "This process repeats 10 times, giving a total of 11 pressures (including the initial pressure) which can be analyzed by students to give the 2nd virial coefficient."
   ]
  },
  {
   "cell_type": "code",
   "execution_count": 2,
   "metadata": {
    "collapsed": true
   },
   "outputs": [],
   "source": [
    "v = 250.0 + (np.random.rand()-0.5)*20\n",
    "dv = 30.0\n",
    "RT = .08206*273.15\n",
    "noise = 0.002"
   ]
  },
  {
   "cell_type": "markdown",
   "metadata": {},
   "source": [
    "##Argon Data"
   ]
  },
  {
   "cell_type": "code",
   "execution_count": 3,
   "metadata": {
    "collapsed": false
   },
   "outputs": [
    {
     "name": "stdout",
     "output_type": "stream",
     "text": [
      "1.0\n",
      "0.892937727689\n",
      "0.79733778553\n",
      "0.711972990412\n",
      "0.635747544234\n",
      "0.567682967532\n",
      "0.506905539076\n",
      "0.452635080215\n",
      "0.404174939999\n",
      "0.360903052512\n"
     ]
    }
   ],
   "source": [
    "data = []\n",
    "time = 0.0\n",
    "p = 1.0\n",
    "B = 0.0\n",
    "n = p*v/(RT*(1+B*p))\n",
    "for i in range(10):\n",
    "    print(p)\n",
    "    for i in range(50):\n",
    "        data.append([time, p+(np.random.rand()-0.5)*noise])\n",
    "        time += 0.1\n",
    "    n = v / (v + dv) * n\n",
    "    p_prev = p    \n",
    "    p = 1.0/(v/(n*RT)-B)\n",
    "    for i in range(10):\n",
    "        data.append([time, p_prev - (p_prev-p)/10.0 * i +(np.random.rand()-0.5)*noise])\n",
    "        time += 0.1\n",
    "for i in range(50):\n",
    "    data.append([time, p+(np.random.rand()-0.5)*noise])\n",
    "    time += 0.1\n",
    "with open('Argon.csv', 'wb') as csvfile:\n",
    "    writer = csv.writer(csvfile, dialect='excel-tab')\n",
    "    writer.writerow([\"Argon Data, 30.0 ml removed at each step\"])\n",
    "    writer.writerow([\"Time (s)\", \"Pressure (atm)\"])\n",
    "    for row in data:\n",
    "        writer.writerow(row)"
   ]
  },
  {
   "cell_type": "markdown",
   "metadata": {},
   "source": [
    "##CO2 Data"
   ]
  },
  {
   "cell_type": "code",
   "execution_count": 4,
   "metadata": {
    "collapsed": false
   },
   "outputs": [
    {
     "name": "stdout",
     "output_type": "stream",
     "text": [
      "1.0\n",
      "0.893543776939\n",
      "0.798362796945\n",
      "0.713274494501\n",
      "0.637217980269\n",
      "0.569241999097\n",
      "0.508493981831\n",
      "0.454210112231\n",
      "0.405706331307\n",
      "0.362370203634\n"
     ]
    }
   ],
   "source": [
    "data = []\n",
    "time = 0.0\n",
    "p = 1.0\n",
    "B = -.142/RT\n",
    "n = p*v/(RT*(1+B*p))\n",
    "for i in range(10):\n",
    "    print(p)\n",
    "    for i in range(50):\n",
    "        data.append([time, p+(np.random.rand()-0.5)*noise])\n",
    "        time += 0.1\n",
    "    n = v / (v + dv) * n\n",
    "    p_prev = p    \n",
    "    p = 1.0/(v/(n*RT)-B)\n",
    "    for i in range(10):\n",
    "        data.append([time, p_prev - (p_prev-p)/10.0 * i +(np.random.rand()-0.5)*noise])\n",
    "        time += 0.1\n",
    "for i in range(50):\n",
    "    data.append([time, p+(np.random.rand()-0.5)*noise])\n",
    "    time += 0.1\n",
    "with open('CO2.csv', 'wb') as csvfile:\n",
    "    writer = csv.writer(csvfile, dialect='excel-tab')\n",
    "    writer.writerow([\"CO2 Data, 30.0 ml removed at each step\"])\n",
    "    writer.writerow([\"Time (s)\", \"Pressure (atm)\"])\n",
    "    for row in data:\n",
    "        writer.writerow(row)"
   ]
  },
  {
   "cell_type": "markdown",
   "metadata": {},
   "source": [
    "##O2 Data"
   ]
  },
  {
   "cell_type": "code",
   "execution_count": 5,
   "metadata": {
    "collapsed": false
   },
   "outputs": [
    {
     "name": "stdout",
     "output_type": "stream",
     "text": [
      "1.0\n",
      "0.893031568819\n",
      "0.797496417781\n",
      "0.712174320873\n",
      "0.635974913854\n",
      "0.56792394836\n",
      "0.507150985868\n",
      "0.452878383804\n",
      "0.404411440553\n",
      "0.361129579405\n"
     ]
    }
   ],
   "source": [
    "data = []\n",
    "time = 0.0\n",
    "p = 1.0\n",
    "B = -.022/RT\n",
    "n = p*v/(RT*(1+B*p))\n",
    "for i in range(10):\n",
    "    print(p)\n",
    "    for i in range(50):\n",
    "        data.append([time, p+(np.random.rand()-0.5)*noise])\n",
    "        time += 0.1\n",
    "    n = v / (v + dv) * n\n",
    "    p_prev = p    \n",
    "    p = 1.0/(v/(n*RT)-B)\n",
    "    for i in range(10):\n",
    "        data.append([time, p_prev - (p_prev-p)/10.0 * i +(np.random.rand()-0.5)*noise])\n",
    "        time += 0.1\n",
    "for i in range(50):\n",
    "    data.append([time, p+(np.random.rand()-0.5)*noise])\n",
    "    time += 0.1\n",
    "with open('Oxygen.csv', 'wb') as csvfile:\n",
    "    writer = csv.writer(csvfile, dialect='excel-tab')\n",
    "    writer.writerow([\"Oxygen Data, 30.0 ml removed at each step\"])\n",
    "    writer.writerow([\"Time (s)\", \"Pressure (atm)\"])\n",
    "    for row in data:\n",
    "        writer.writerow(row)"
   ]
  },
  {
   "cell_type": "code",
   "execution_count": null,
   "metadata": {
    "collapsed": true
   },
   "outputs": [],
   "source": []
  }
 ],
 "metadata": {
  "kernelspec": {
   "display_name": "Python 2",
   "language": "python",
   "name": "python2"
  },
  "language_info": {
   "codemirror_mode": {
    "name": "ipython",
    "version": 2
   },
   "file_extension": ".py",
   "mimetype": "text/x-python",
   "name": "python",
   "nbconvert_exporter": "python",
   "pygments_lexer": "ipython2",
   "version": "2.7.6"
  }
 },
 "nbformat": 4,
 "nbformat_minor": 0
}
